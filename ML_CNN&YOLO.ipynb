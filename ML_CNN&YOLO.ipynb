{
  "nbformat": 4,
  "nbformat_minor": 0,
  "metadata": {
    "colab": {
      "name": "ML_CNN&YOLO.ipynb",
      "provenance": [],
      "collapsed_sections": [],
      "authorship_tag": "ABX9TyNDQaQQkThbL1OyMXA6W4VR",
      "include_colab_link": true
    },
    "kernelspec": {
      "name": "python3",
      "display_name": "Python 3"
    },
    "language_info": {
      "name": "python"
    },
    "accelerator": "GPU",
    "gpuClass": "standard",
    "widgets": {
      "application/vnd.jupyter.widget-state+json": {
        "89875f1b4b9d42e4b9691563479f86a8": {
          "model_module": "@jupyter-widgets/controls",
          "model_name": "HBoxModel",
          "model_module_version": "1.5.0",
          "state": {
            "_dom_classes": [],
            "_model_module": "@jupyter-widgets/controls",
            "_model_module_version": "1.5.0",
            "_model_name": "HBoxModel",
            "_view_count": null,
            "_view_module": "@jupyter-widgets/controls",
            "_view_module_version": "1.5.0",
            "_view_name": "HBoxView",
            "box_style": "",
            "children": [
              "IPY_MODEL_6a1e0ae800ec48e7984e0cf62cb907fc",
              "IPY_MODEL_05b96734eb3a47578ad26b466955f439",
              "IPY_MODEL_cefd2a11ae2a45c0a28ea4d3e1df7716"
            ],
            "layout": "IPY_MODEL_ba49cbbf878c418fb5fdf43bf571efad"
          }
        },
        "6a1e0ae800ec48e7984e0cf62cb907fc": {
          "model_module": "@jupyter-widgets/controls",
          "model_name": "HTMLModel",
          "model_module_version": "1.5.0",
          "state": {
            "_dom_classes": [],
            "_model_module": "@jupyter-widgets/controls",
            "_model_module_version": "1.5.0",
            "_model_name": "HTMLModel",
            "_view_count": null,
            "_view_module": "@jupyter-widgets/controls",
            "_view_module_version": "1.5.0",
            "_view_name": "HTMLView",
            "description": "",
            "description_tooltip": null,
            "layout": "IPY_MODEL_5c792043d55a4399b0565e77ccf399bf",
            "placeholder": "​",
            "style": "IPY_MODEL_18c6608ece404d00bfdde709ba55e5ef",
            "value": ""
          }
        },
        "05b96734eb3a47578ad26b466955f439": {
          "model_module": "@jupyter-widgets/controls",
          "model_name": "FloatProgressModel",
          "model_module_version": "1.5.0",
          "state": {
            "_dom_classes": [],
            "_model_module": "@jupyter-widgets/controls",
            "_model_module_version": "1.5.0",
            "_model_name": "FloatProgressModel",
            "_view_count": null,
            "_view_module": "@jupyter-widgets/controls",
            "_view_module_version": "1.5.0",
            "_view_name": "ProgressView",
            "bar_style": "success",
            "description": "",
            "description_tooltip": null,
            "layout": "IPY_MODEL_4e1ba60f58af4f85b5db941a399b8048",
            "max": 170498071,
            "min": 0,
            "orientation": "horizontal",
            "style": "IPY_MODEL_d185c92bb441447280754ff84cd444fe",
            "value": 170498071
          }
        },
        "cefd2a11ae2a45c0a28ea4d3e1df7716": {
          "model_module": "@jupyter-widgets/controls",
          "model_name": "HTMLModel",
          "model_module_version": "1.5.0",
          "state": {
            "_dom_classes": [],
            "_model_module": "@jupyter-widgets/controls",
            "_model_module_version": "1.5.0",
            "_model_name": "HTMLModel",
            "_view_count": null,
            "_view_module": "@jupyter-widgets/controls",
            "_view_module_version": "1.5.0",
            "_view_name": "HTMLView",
            "description": "",
            "description_tooltip": null,
            "layout": "IPY_MODEL_632c781212b942b2940ea83eb65e3555",
            "placeholder": "​",
            "style": "IPY_MODEL_27cc62d2d5e84c909b6bfec0b4686869",
            "value": " 170499072/? [00:05&lt;00:00, 47507385.30it/s]"
          }
        },
        "ba49cbbf878c418fb5fdf43bf571efad": {
          "model_module": "@jupyter-widgets/base",
          "model_name": "LayoutModel",
          "model_module_version": "1.2.0",
          "state": {
            "_model_module": "@jupyter-widgets/base",
            "_model_module_version": "1.2.0",
            "_model_name": "LayoutModel",
            "_view_count": null,
            "_view_module": "@jupyter-widgets/base",
            "_view_module_version": "1.2.0",
            "_view_name": "LayoutView",
            "align_content": null,
            "align_items": null,
            "align_self": null,
            "border": null,
            "bottom": null,
            "display": null,
            "flex": null,
            "flex_flow": null,
            "grid_area": null,
            "grid_auto_columns": null,
            "grid_auto_flow": null,
            "grid_auto_rows": null,
            "grid_column": null,
            "grid_gap": null,
            "grid_row": null,
            "grid_template_areas": null,
            "grid_template_columns": null,
            "grid_template_rows": null,
            "height": null,
            "justify_content": null,
            "justify_items": null,
            "left": null,
            "margin": null,
            "max_height": null,
            "max_width": null,
            "min_height": null,
            "min_width": null,
            "object_fit": null,
            "object_position": null,
            "order": null,
            "overflow": null,
            "overflow_x": null,
            "overflow_y": null,
            "padding": null,
            "right": null,
            "top": null,
            "visibility": null,
            "width": null
          }
        },
        "5c792043d55a4399b0565e77ccf399bf": {
          "model_module": "@jupyter-widgets/base",
          "model_name": "LayoutModel",
          "model_module_version": "1.2.0",
          "state": {
            "_model_module": "@jupyter-widgets/base",
            "_model_module_version": "1.2.0",
            "_model_name": "LayoutModel",
            "_view_count": null,
            "_view_module": "@jupyter-widgets/base",
            "_view_module_version": "1.2.0",
            "_view_name": "LayoutView",
            "align_content": null,
            "align_items": null,
            "align_self": null,
            "border": null,
            "bottom": null,
            "display": null,
            "flex": null,
            "flex_flow": null,
            "grid_area": null,
            "grid_auto_columns": null,
            "grid_auto_flow": null,
            "grid_auto_rows": null,
            "grid_column": null,
            "grid_gap": null,
            "grid_row": null,
            "grid_template_areas": null,
            "grid_template_columns": null,
            "grid_template_rows": null,
            "height": null,
            "justify_content": null,
            "justify_items": null,
            "left": null,
            "margin": null,
            "max_height": null,
            "max_width": null,
            "min_height": null,
            "min_width": null,
            "object_fit": null,
            "object_position": null,
            "order": null,
            "overflow": null,
            "overflow_x": null,
            "overflow_y": null,
            "padding": null,
            "right": null,
            "top": null,
            "visibility": null,
            "width": null
          }
        },
        "18c6608ece404d00bfdde709ba55e5ef": {
          "model_module": "@jupyter-widgets/controls",
          "model_name": "DescriptionStyleModel",
          "model_module_version": "1.5.0",
          "state": {
            "_model_module": "@jupyter-widgets/controls",
            "_model_module_version": "1.5.0",
            "_model_name": "DescriptionStyleModel",
            "_view_count": null,
            "_view_module": "@jupyter-widgets/base",
            "_view_module_version": "1.2.0",
            "_view_name": "StyleView",
            "description_width": ""
          }
        },
        "4e1ba60f58af4f85b5db941a399b8048": {
          "model_module": "@jupyter-widgets/base",
          "model_name": "LayoutModel",
          "model_module_version": "1.2.0",
          "state": {
            "_model_module": "@jupyter-widgets/base",
            "_model_module_version": "1.2.0",
            "_model_name": "LayoutModel",
            "_view_count": null,
            "_view_module": "@jupyter-widgets/base",
            "_view_module_version": "1.2.0",
            "_view_name": "LayoutView",
            "align_content": null,
            "align_items": null,
            "align_self": null,
            "border": null,
            "bottom": null,
            "display": null,
            "flex": null,
            "flex_flow": null,
            "grid_area": null,
            "grid_auto_columns": null,
            "grid_auto_flow": null,
            "grid_auto_rows": null,
            "grid_column": null,
            "grid_gap": null,
            "grid_row": null,
            "grid_template_areas": null,
            "grid_template_columns": null,
            "grid_template_rows": null,
            "height": null,
            "justify_content": null,
            "justify_items": null,
            "left": null,
            "margin": null,
            "max_height": null,
            "max_width": null,
            "min_height": null,
            "min_width": null,
            "object_fit": null,
            "object_position": null,
            "order": null,
            "overflow": null,
            "overflow_x": null,
            "overflow_y": null,
            "padding": null,
            "right": null,
            "top": null,
            "visibility": null,
            "width": null
          }
        },
        "d185c92bb441447280754ff84cd444fe": {
          "model_module": "@jupyter-widgets/controls",
          "model_name": "ProgressStyleModel",
          "model_module_version": "1.5.0",
          "state": {
            "_model_module": "@jupyter-widgets/controls",
            "_model_module_version": "1.5.0",
            "_model_name": "ProgressStyleModel",
            "_view_count": null,
            "_view_module": "@jupyter-widgets/base",
            "_view_module_version": "1.2.0",
            "_view_name": "StyleView",
            "bar_color": null,
            "description_width": ""
          }
        },
        "632c781212b942b2940ea83eb65e3555": {
          "model_module": "@jupyter-widgets/base",
          "model_name": "LayoutModel",
          "model_module_version": "1.2.0",
          "state": {
            "_model_module": "@jupyter-widgets/base",
            "_model_module_version": "1.2.0",
            "_model_name": "LayoutModel",
            "_view_count": null,
            "_view_module": "@jupyter-widgets/base",
            "_view_module_version": "1.2.0",
            "_view_name": "LayoutView",
            "align_content": null,
            "align_items": null,
            "align_self": null,
            "border": null,
            "bottom": null,
            "display": null,
            "flex": null,
            "flex_flow": null,
            "grid_area": null,
            "grid_auto_columns": null,
            "grid_auto_flow": null,
            "grid_auto_rows": null,
            "grid_column": null,
            "grid_gap": null,
            "grid_row": null,
            "grid_template_areas": null,
            "grid_template_columns": null,
            "grid_template_rows": null,
            "height": null,
            "justify_content": null,
            "justify_items": null,
            "left": null,
            "margin": null,
            "max_height": null,
            "max_width": null,
            "min_height": null,
            "min_width": null,
            "object_fit": null,
            "object_position": null,
            "order": null,
            "overflow": null,
            "overflow_x": null,
            "overflow_y": null,
            "padding": null,
            "right": null,
            "top": null,
            "visibility": null,
            "width": null
          }
        },
        "27cc62d2d5e84c909b6bfec0b4686869": {
          "model_module": "@jupyter-widgets/controls",
          "model_name": "DescriptionStyleModel",
          "model_module_version": "1.5.0",
          "state": {
            "_model_module": "@jupyter-widgets/controls",
            "_model_module_version": "1.5.0",
            "_model_name": "DescriptionStyleModel",
            "_view_count": null,
            "_view_module": "@jupyter-widgets/base",
            "_view_module_version": "1.2.0",
            "_view_name": "StyleView",
            "description_width": ""
          }
        }
      }
    }
  },
  "cells": [
    {
      "cell_type": "markdown",
      "metadata": {
        "id": "view-in-github",
        "colab_type": "text"
      },
      "source": [
        "<a href=\"https://colab.research.google.com/github/easyhardhoon/autonomous_vision/blob/main/ML_CNN%26YOLO.ipynb\" target=\"_parent\"><img src=\"https://colab.research.google.com/assets/colab-badge.svg\" alt=\"Open In Colab\"/></a>"
      ]
    },
    {
      "cell_type": "markdown",
      "source": [
        "#Pytorch를 이용한 3차원 데이터 학습 예제\n",
        "\n",
        "여기서는 torchvision이 기본 제공하는 CIFAR10 데이터를 활용하였다(CNN의 일종인 LeNet-5 모델 이용함)\n",
        "\n",
        "추후에 개인 데이터를 활용하는 데이터 학습 코드 구현 예정(Pytorch4 참고하기)"
      ],
      "metadata": {
        "id": "0_K9GzgNFrnI"
      }
    },
    {
      "cell_type": "code",
      "execution_count": null,
      "metadata": {
        "id": "7lIg5h6H_Uqa"
      },
      "outputs": [],
      "source": [
        "import torch\n",
        "import torch.nn as nn\n",
        "import torch.optim as optim\n",
        "import torch.nn.init as init\n",
        "import matplotlib.pyplot as plt"
      ]
    },
    {
      "cell_type": "markdown",
      "source": [
        "#1. 데이터 전처리\n",
        "\n",
        "**전처리의 순서**\n",
        "\n",
        "▶transform = transforms.Compose([transforms.ToTensor(),transforms.Resize(16))\n",
        "\n",
        "---> 기초 전처리 몰아서 해주기\n",
        "\n",
        "▶trainset = torchvision.datasets.CIFAR10(root='./data',train,download,transform=transform)\n",
        "\n",
        "---> CIFAR10 데이터 셋 가지고 오기. 기초 전처리는 transform에서 해주도록 하기\n",
        "\n",
        "▶trainloader = DataLoader(trainset,batch_size,shuffle,num_workers)\n",
        "\n",
        "---> trainset을 batch_size, shuffle, num_workers등 최종 전처리를 해준 trainloader 리턴/\n",
        "\n"
      ],
      "metadata": {
        "id": "qibMPG6IC6ml"
      }
    },
    {
      "cell_type": "code",
      "source": [
        "import torch\n",
        "import torchvision\n",
        "import torchvision.transforms as transforms\n",
        "\n",
        "transform = transforms.Compose(\n",
        "    [transforms.ToTensor(),\n",
        "     transforms.Normalize((0.5, 0.5, 0.5), (0.5, 0.5, 0.5))]) # Tensor 타입으로 정규화\n",
        "\n",
        "#학습용 데이터 셋. \n",
        "#torchvision이 제공하는 데이터 셋 CIFAR10 데이터 가져오기.\n",
        "trainset = torchvision.datasets.CIFAR10(root='./data', train=True,\n",
        "                                        download=True, transform=transform)\n",
        "\n",
        "#numworkers : 사용할 서브 프로세스의 수 (보통은 코어의 절반으로 세팅)\n",
        "trainloader = torch.utils.data.DataLoader(trainset, batch_size=4,\n",
        "                                          shuffle=True, num_workers=2)\n",
        "\n",
        "#테스트용 데이터 셋 \n",
        "testset = torchvision.datasets.CIFAR10(root='./data', train=False,\n",
        "                                       download=True, transform=transform)\n",
        "testloader = torch.utils.data.DataLoader(testset, batch_size=4,\n",
        "                                         shuffle=False, num_workers=2)\n",
        "\n",
        "#클래스들\n",
        "classes = ('plane', 'car', 'bird', 'cat',\n",
        "           'deer', 'dog', 'frog', 'horse', 'ship', 'truck')"
      ],
      "metadata": {
        "colab": {
          "base_uri": "https://localhost:8080/",
          "height": 101,
          "referenced_widgets": [
            "89875f1b4b9d42e4b9691563479f86a8",
            "6a1e0ae800ec48e7984e0cf62cb907fc",
            "05b96734eb3a47578ad26b466955f439",
            "cefd2a11ae2a45c0a28ea4d3e1df7716",
            "ba49cbbf878c418fb5fdf43bf571efad",
            "5c792043d55a4399b0565e77ccf399bf",
            "18c6608ece404d00bfdde709ba55e5ef",
            "4e1ba60f58af4f85b5db941a399b8048",
            "d185c92bb441447280754ff84cd444fe",
            "632c781212b942b2940ea83eb65e3555",
            "27cc62d2d5e84c909b6bfec0b4686869"
          ]
        },
        "id": "eufS5C7__k39",
        "outputId": "4aa8f584-6ea4-48a7-d71b-e78c95df4ef9"
      },
      "execution_count": null,
      "outputs": [
        {
          "output_type": "stream",
          "name": "stdout",
          "text": [
            "Downloading https://www.cs.toronto.edu/~kriz/cifar-10-python.tar.gz to ./data/cifar-10-python.tar.gz\n"
          ]
        },
        {
          "output_type": "display_data",
          "data": {
            "text/plain": [
              "  0%|          | 0/170498071 [00:00<?, ?it/s]"
            ],
            "application/vnd.jupyter.widget-view+json": {
              "version_major": 2,
              "version_minor": 0,
              "model_id": "89875f1b4b9d42e4b9691563479f86a8"
            }
          },
          "metadata": {}
        },
        {
          "output_type": "stream",
          "name": "stdout",
          "text": [
            "Extracting ./data/cifar-10-python.tar.gz to ./data\n",
            "Files already downloaded and verified\n"
          ]
        }
      ]
    },
    {
      "cell_type": "markdown",
      "source": [
        "#2. 데이터 확인"
      ],
      "metadata": {
        "id": "LdBR5Xy2C8kN"
      }
    },
    {
      "cell_type": "code",
      "source": [
        "import matplotlib.pyplot as plt\n",
        "import numpy as np\n",
        "\n",
        "#이미지 확인하기\n",
        "\n",
        "def imshow(img):\n",
        "    img = img / 2 + 0.5     # 정규화 해제\n",
        "    npimg = img.numpy()\n",
        "    plt.imshow(np.transpose(npimg, (1, 2, 0)))\n",
        "    plt.show()\n",
        "\n",
        "\n",
        "# 학습용 이미지 뽑기. 하나하나 읽어올 수 있다. \n",
        "dataiter = iter(trainloader)\n",
        "images, labels = dataiter.next() \n",
        "\n",
        "# 이미지 보여주기\n",
        "imshow(torchvision.utils.make_grid(images))\n",
        "\n",
        "# 이미지별 라벨 (클래스) 보여주기\n",
        "print(' '.join('%5s' % classes[labels[j]] for j in range(4)))\n"
      ],
      "metadata": {
        "colab": {
          "base_uri": "https://localhost:8080/",
          "height": 155
        },
        "id": "He2SVc0EBCY1",
        "outputId": "5a8b6c96-f54b-49a1-9736-3982811cf26a"
      },
      "execution_count": null,
      "outputs": [
        {
          "output_type": "display_data",
          "data": {
            "text/plain": [
              "<Figure size 432x288 with 1 Axes>"
            ],
            "image/png": "[encoded data removed]"
          },
          "metadata": {
            "needs_background": "light"
          }
        },
        {
          "output_type": "stream",
          "name": "stdout",
          "text": [
            "truck  frog  bird  ship\n"
          ]
        }
      ]
    },
    {
      "cell_type": "markdown",
      "source": [
        "#3. 학습 모델 생성하기"
      ],
      "metadata": {
        "id": "ldxjntTuGT7O"
      }
    },
    {
      "cell_type": "markdown",
      "source": [
        "**3-1. CNN 정의하기(LeNet-5)**\n",
        "\n",
        "✅모델을 Class로 정의하는 방법\n"
      ],
      "metadata": {
        "id": "4X8JvrkuDOPN"
      }
    },
    {
      "cell_type": "code",
      "source": [
        "import torch.nn as nn\n",
        "import torch.nn.functional as F\n",
        "\n",
        "\n",
        "class Net(nn.Module):\n",
        "    def __init__(self):\n",
        "        super(Net, self).__init__()\n",
        "\n",
        "        #input = 3, output = 6, kernal = 5\n",
        "        self.conv1 = nn.Conv2d(3, 6, 5) #합성곱 계층\n",
        "        #kernal = 2, stride = 2, padding = 0 (default)\n",
        "        self.pool = nn.MaxPool2d(2, 2) # 풀링(MAX) 계층\n",
        "        self.conv2 = nn.Conv2d(6, 16, 5)\n",
        "        #input feature, output feature\n",
        "        self.fc1 = nn.Linear(16 * 5 * 5, 120) # 완전연결계층 (flatten + 활성화1(relu) + 활성화2(softmax))\n",
        "        self.fc2 = nn.Linear(120, 84)\n",
        "        self.fc3 = nn.Linear(84, 10)\n",
        "\n",
        "    # 값 계산\n",
        "    def forward(self, x):\n",
        "        x = self.pool(F.relu(self.conv1(x)))\n",
        "        x = self.pool(F.relu(self.conv2(x)))\n",
        "        x = x.view(-1, 16 * 5 * 5)\n",
        "        x = F.relu(self.fc1(x)) #fc1 이런거는 단순히 행렬곱 연산에 해당된다.\n",
        "        x = F.relu(self.fc2(x))\n",
        "        x = self.fc3(x)\n",
        "        return x\n",
        "\n",
        "\n",
        "net = Net()"
      ],
      "metadata": {
        "id": "IYVL2m3_BFWg"
      },
      "execution_count": null,
      "outputs": []
    },
    {
      "cell_type": "markdown",
      "source": [
        "✅모델을 Sequential로 정의하는 방법\n",
        "\n",
        "사실 위의 class 기반 코드와 완전히 동일하다"
      ],
      "metadata": {
        "id": "xfffQA5fGnxG"
      }
    },
    {
      "cell_type": "code",
      "source": [
        "model = nn.Sequential(\n",
        "    nn.Conv2d(3,6,5),\n",
        "    nn.MaxPool2d(2, 2),\n",
        "    nn.Conv2d(6, 16, 5),\n",
        "    nn.Linear(16 * 5 * 5, 120),\n",
        "    nn.Linear(120, 84),\n",
        "    nn.Linear(84, 10),\n",
        ")\n",
        "\"\"\"\n",
        "model = nn.Sequential(\n",
        "    nn.Linear(32,384),\n",
        "    nn.LeakyReLU(0.2),\n",
        "    nn.Linear(3,10),\n",
        "    nn.LeakyReLU(0.2),\n",
        "    nn.Linear(10,10),\n",
        "    nn.LeakyReLU(0.2),    \n",
        "    nn.Linear(10,10),\n",
        "    nn.LeakyReLU(0.2),        \n",
        "    nn.Linear(10,5),\n",
        "    nn.LeakyReLU(0.2),          \n",
        "    nn.Linear(5,1),\n",
        ") \"\"\"\n",
        "print(\".\")"
      ],
      "metadata": {
        "colab": {
          "base_uri": "https://localhost:8080/"
        },
        "id": "lGaXBBQOGs1L",
        "outputId": "34616798-4fde-4459-9186-fdc613decf52"
      },
      "execution_count": null,
      "outputs": [
        {
          "output_type": "stream",
          "name": "stdout",
          "text": [
            ".\n"
          ]
        }
      ]
    },
    {
      "cell_type": "markdown",
      "source": [
        "**3-2. Loss와 Optimizer 정의하기**"
      ],
      "metadata": {
        "id": "eIiYC8-jDNUA"
      }
    },
    {
      "cell_type": "code",
      "source": [
        "import torch.optim as optim\n",
        "\n",
        "criterion = nn.CrossEntropyLoss()\n",
        "#optimizer = optim.SGD(net.parameters(), lr=0.001, momentum=0.9)\n",
        "optimizer = optim.SGD(model.parameters(), lr=0.001, momentum=0.9)"
      ],
      "metadata": {
        "id": "1dLqalfsBIdK"
      },
      "execution_count": null,
      "outputs": []
    },
    {
      "cell_type": "markdown",
      "source": [
        "#4. 학습하기"
      ],
      "metadata": {
        "id": "T4cvUgFLDgfX"
      }
    },
    {
      "cell_type": "code",
      "source": [
        "for epoch in range(2):  #데이터셋 2번 받기\n",
        "\n",
        "    running_loss = 0.0\n",
        "    for i, data in enumerate(trainloader, 0):\n",
        "        # 입력 받기 (데이터 [입력, 라벨(정답)]으로 이루어짐)\n",
        "        inputs, labels = data\n",
        "\n",
        "        #학습\n",
        "        optimizer.zero_grad()\n",
        "        outputs = net(inputs)\n",
        "        #outputs = model(inputs)\n",
        "        loss = criterion(outputs, labels)\n",
        "        loss.backward()\n",
        "        optimizer.step()\n",
        "\n",
        "        # 결과 출력\n",
        "        running_loss += loss.item()\n",
        "        if i % 2000 == 1999:    # print every 2000개마다\n",
        "            print('[%d, %5d] loss: %.3f' %\n",
        "                  (epoch + 1, i + 1, running_loss / 2000))\n",
        "            running_loss = 0.0\n",
        "\n",
        "print('Finished Training')\n",
        "\n",
        "#여기에 학습한 모델 저장\n",
        "PATH = './cifar_net.pth'\n",
        "torch.save(net.state_dict(), PATH)"
      ],
      "metadata": {
        "colab": {
          "base_uri": "https://localhost:8080/"
        },
        "id": "fRTG-HFWBMaF",
        "outputId": "cd9b4c98-f32d-4f06-f1d6-b46abda2e482"
      },
      "execution_count": null,
      "outputs": [
        {
          "output_type": "stream",
          "name": "stdout",
          "text": [
            "[1,  2000] loss: 2.305\n",
            "[1,  4000] loss: 2.304\n",
            "[1,  6000] loss: 2.304\n",
            "[1,  8000] loss: 2.306\n",
            "[1, 10000] loss: 2.304\n",
            "[1, 12000] loss: 2.306\n",
            "[2,  2000] loss: 2.304\n",
            "[2,  4000] loss: 2.305\n",
            "[2,  6000] loss: 2.304\n",
            "[2,  8000] loss: 2.305\n",
            "[2, 10000] loss: 2.305\n",
            "[2, 12000] loss: 2.305\n",
            "Finished Training\n"
          ]
        }
      ]
    },
    {
      "cell_type": "markdown",
      "source": [
        "#5. 테스트하기"
      ],
      "metadata": {
        "id": "YCWCBHRbDqhz"
      }
    },
    {
      "cell_type": "code",
      "source": [
        "dataiter = iter(testloader)\n",
        "images, labels = dataiter.next()\n",
        "\n",
        "# 실험용 데이터와 결과 출력\n",
        "imshow(torchvision.utils.make_grid(images))\n",
        "print('GroundTruth: ', ' '.join('%5s' % classes[labels[j]] for j in range(4)))\n",
        "\n",
        "# 학습한 모델로 예측값 뽑아보기\n",
        "net = Net()\n",
        "net.load_state_dict(torch.load(PATH))\n",
        "outputs = net(images)\n",
        "_, predicted = torch.max(outputs, 1)\n",
        "print('Predicted: ', ' '.join('%5s' % classes[predicted[j]]\n",
        "                              for j in range(4)))"
      ],
      "metadata": {
        "colab": {
          "base_uri": "https://localhost:8080/",
          "height": 173
        },
        "id": "uNgWtYzaBN-h",
        "outputId": "369511c8-d82d-4c51-b9aa-d8da5b631cbd"
      },
      "execution_count": null,
      "outputs": [
        {
          "output_type": "display_data",
          "data": {
            "text/plain": [
              "<Figure size 432x288 with 1 Axes>"
            ],
            "image/png": "[encoded data removed]"
          },
          "metadata": {
            "needs_background": "light"
          }
        },
        {
          "output_type": "stream",
          "name": "stdout",
          "text": [
            "GroundTruth:    cat  ship  ship plane\n",
            "Predicted:    cat  ship  ship plane\n"
          ]
        }
      ]
    },
    {
      "cell_type": "markdown",
      "source": [
        "#전체 데이터 셋에 대한 정확도 산출(최종)"
      ],
      "metadata": {
        "id": "QuhQ0L5xDvPC"
      }
    },
    {
      "cell_type": "code",
      "source": [
        "correct = 0\n",
        "total = 0\n",
        "with torch.no_grad():\n",
        "    for data in testloader:\n",
        "        images, labels = data\n",
        "        outputs = net(images)\n",
        "        _, predicted = torch.max(outputs.data, 1)\n",
        "        total += labels.size(0)\n",
        "        correct += (predicted == labels).sum().item()\n",
        "\n",
        "print('Accuracy of the network on the 10000 test images: %d %%' % (\n",
        "    100 * correct / total))"
      ],
      "metadata": {
        "colab": {
          "base_uri": "https://localhost:8080/"
        },
        "id": "VdCLzcB7Bqa6",
        "outputId": "11c10a68-c082-4d29-eb54-ab08ebbd8df5"
      },
      "execution_count": null,
      "outputs": [
        {
          "output_type": "stream",
          "name": "stdout",
          "text": [
            "Accuracy of the network on the 10000 test images: 52 %\n"
          ]
        }
      ]
    },
    {
      "cell_type": "markdown",
      "source": [
        "#CNN의 한계와 발전 방향, 그리고 YOLO\n",
        "\n",
        "\n",
        "https://www.soyo.or.kr/digital-citizenship/2020/04/24/%ED%95%B4%EC%99%B8-%EA%B8%B0%EC%82%AC%EC%9D%B8%EA%B3%B5%EC%A7%80%EB%8A%A5%EC%9D%98-%EA%B0%80%EC%9E%A5-%ED%81%B0-%EC%84%B1%EA%B3%BC-%EC%A4%91-%ED%95%98%EB%82%98%EC%9D%B8-cnn%EC%9D%B4-%EB%8C%80/\n",
        "\n",
        "\n",
        "\n",
        "CNN기반 모델 발전 개요\n",
        "\n",
        "1. LeNet (CNN 적용)\n",
        "\n",
        "\n",
        "2. AlexNet (GPU, RELU 함수 적용)\n",
        "\n",
        "3. ZFNet (하이퍼 파라미터 최적화)\n",
        "\n",
        "4. VGGNet (작은 필터 수 규칙적 적용)\n",
        "\n",
        "5. GoogleNet (Inception 모듈 적용)\n",
        "\n",
        "6. ResNet (SKip connection 적용, 기울기 소실문제해결)\n",
        "\n",
        "7. DenseNet (진화된 Skip connection 과 bottleneck layers 적용)\n",
        "\n",
        "---\n",
        "\n",
        "#윈도우를 활용한 객체 탐지 알고리즘\n",
        "\n",
        "▶이단계 방식\n",
        "  \n",
        "    영역 제안 + 객체 탐지 . 정확하지만 느리다\n",
        "\n",
        "    ex)Faster R-CNN\n",
        "\n",
        "▶단일 단계 방식\n",
        "\n",
        "    정해진 위치와 정해진 크기의 객체만 찾기. 정확도가 떨어지지만 빠르다\n",
        "\n",
        "    ex) YOLO\n",
        "\n",
        "    주로 실시간 탐지를 요구하는 어플리케이션에 활용된다\n",
        "\n",
        "\n",
        "https://rubber-tree.tistory.com/119\n",
        "\n",
        "  \n",
        "---\n",
        "\n",
        "#YOLO  (You Only Look Once)\n",
        "\n",
        "이미지 내에 존재하는 객체와 해당 객체의 위치는 이미지를 한 번만 보고 예측할 수 있다.\n",
        "\n",
        "https://curt-park.github.io/2017-03-26/yolo/\n",
        "\n",
        "#딥러닝의 기본기\n",
        "\n",
        "컴퓨터도 사람이 생각하는 구조처럼 만들고 싶다\n",
        "\n",
        "**CNN**을 통해 인공신경망은 이미지를 사람처럼 볼 수 있게 됐다. 결국은 컴퓨터의 최대 장점인 수치연산을 이용한 구조이다\n",
        "\n",
        "CNN에서 필터(커널)과의 연산으로부터 적절한 수치의 집합을 도출해내고 역전파를 통해 계속 학습한다. \n",
        "\n",
        "\n",
        "---\n",
        "\n",
        "**객체 감지(Object Detection)**란 이미지 안의 객체를 단순히 구분하는 것에서 그치지 않고 이미지 내의 해당 객체의 위치까지 표시하는 알고리즘\n",
        "\n",
        "\n",
        "\n",
        "\n",
        "여기서 더 발전하여 객체에 대한 **인스턴스 분할(Instance Segmentation)**까지 하여 해당 객체만을  **Mask**\n",
        "로 표시하여 나타낼 수도 있다\n",
        "\n",
        "\n",
        "---\n",
        "\n",
        "오늘날 객체 감지 알고리즘에 활용되는 인공지능 모델들은 해당 작업을 수행하기 위해 2가지 과정을 거친다\n",
        "\n",
        "사진에서 객체의 위치를 추정하는 **지역화**\n",
        "\n",
        "해당 위치에 있는 객체가 무엇인지 확인하는 **분류**\n",
        "\n",
        "이 지역화와 분류를 동시에 하는지 순서대로 2번에 나누어서 하는지에 따라\n",
        "\n",
        "One-stage 모델과 Two-stage 모델로 나뉜다.\n",
        "\n",
        "One-stage 모델의 대표가 YOLO이다. 속도가 빠른 대신 정확도가 다소 떨어질 수 있다.\n",
        "\n",
        "\n",
        "객체의 위치와 속성을 동시에 찾는다.\n",
        "\n",
        "https://eair.tistory.com/41?category=0\n",
        "\n",
        "\n",
        "\n",
        "YOLO는 객체 탐지를 실시간으로 해낼 수 있다\n",
        "\n",
        "가장 연산 시간이 많이 걸리는 CNN을 단 한번만 사용한다.\n",
        "\n",
        "**Ground-truth** : 데이터의 label 값과 같은 느낌. 학습하고자 하는 데이터의 원본 값\n",
        "\n",
        "**IOU** : (비젼에서) 딥러닝 모델의 성능 평가 지표. 얼마나 겹치냐\n",
        "\n",
        "CNN 기법으로  'GoogLeNet'을 한번만 사용하였다. (이미지 분류 용도)\n",
        "\n",
        "최종 그리드셀은 7*7 기반의 Tensor이며 길이 30의 벡터로 이루어짐. \n",
        "\n",
        "5,5,20으로 분할 가능하고 5,5에서 Bounding Box의 중앙 x,y값, 높이와 너비, 해당 객체에 대한 신뢰도 c로 구성된다.\n",
        "\n",
        "즉, 각 그리드셀 하나당 2개의 Bounding Box를 예측하고 있다. \n",
        "\n",
        "나머지 20에서는 학습된 20개의 객체 클래스 중 해당 객체일 확률을 나타낸다. \n",
        "\n",
        "각 그리드셀이 각각 2개씩 Bounding Box를 찾다 보니 하나의 객체에 대해 과도한 양의 Bounging Box가 감지되는 경우가 발생한다.\n",
        "\n",
        "YOLO에서는 이 문제점을 해결하기 위해 Non-max suppresion을 사용한다. 겹치는 내용 모두 제거 & 확률 가장 높은 Box만 남겨두기\n",
        "\n",
        "YOLO의 LOSS\n",
        "\n",
        "    1. 인공신경망이 예측한 Bounding Box가 Ground Truth와 얼마나 일치하는가에 대한 오차\n",
        "    (Localization Loss)\n",
        "\n",
        "    2. Bounding Box에 객체가 있는지에 대한 여부\n",
        "    (Confidence Loss)\n",
        "    \n",
        "    3. Bounding Box에 상관없이 해당 셀에서 객체 클래스의 신뢰도 계산\n",
        "    (Class Loss)\n",
        "\n",
        "이 3가지로 이루어진 LOSS를 통해 신경망이 학습을 하여 객체를 찾아내게 된다.\n",
        "\n",
        "이렇게 네트워크를 학습시킨 뒤, 예측을 하면 각 셀마다 여러장(2장)의 바운딩 박스가 생기게 된다. \n",
        "\n",
        "그 중 물체의 중심을 중심으로 그려진 바운딩 박스는 Confidence Score가 높게 나오고(if문의 높은 페널티 때문) 물체의 중심으로부터 먼 셀이 만드는 바운딩 박스는 Score가 작게 나오게 된다.\n",
        "\n",
        "최종적으로 여러개의 바운딩 박스를 합치고 수정하게 되면 이미지의 객체 탐지가 완료된다. \n",
        "\n",
        "https://medium.com/curg/you-only-look-once-%EB%8B%A4-%EB%8B%A8%EC%A7%80-%ED%95%9C-%EB%B2%88%EB%A7%8C-%EB%B3%B4%EC%95%98%EC%9D%84-%EB%BF%90%EC%9D%B4%EB%9D%BC%EA%B5%AC-bddc8e6238e2\n",
        "\n",
        "\n",
        "\n",
        "\n",
        "\n",
        "\n",
        "\n",
        "\n"
      ],
      "metadata": {
        "id": "dGRyxXxiRCG2"
      }
    },
    {
      "cell_type": "markdown",
      "source": [
        "#YOLO 구현\n",
        "\n",
        "\n",
        "https://m.blog.naver.com/PostView.naver?isHttpsRedirect=true&blogId=sonyi&logNo=221671064474\n",
        "\n",
        "xycar에 darknet 라이브러리로 YOLO(v3) 구현 완료.\n",
        "\n",
        "#최종 결론\n",
        "\n",
        "1. YOLO는 객체 인식을 해주는 딥러닝 모델이라, xycar 본선에서는 크게 쓸 이유가 없을 것 같다. 장애물 인식 정도는 할 수 있을 것 같긴 하다\n",
        "\n",
        "2. xycar에 YOLO를 구현하긴 해놨다. 몇 프레임이 나오는지 테스트해보고 만약 장애물을 박스로 인식한다면 어떻게 제어를 해줄 수 있을지만 고민을 해보면 될 것 같다. \n",
        "\n",
        "3. YOLO 간략 정리 : 사진 참고\n",
        "\n",
        "4. http://journal.cg-korea.org/archive/view_article?pid=jkcgs-27-5-63 \n"
      ],
      "metadata": {
        "id": "UtCuzWvGEp1z"
      }
    },
    {
      "cell_type": "code",
      "source": [
        ""
      ],
      "metadata": {
        "id": "A_ay4xUBEo3m"
      },
      "execution_count": null,
      "outputs": []
    },
    {
      "cell_type": "code",
      "source": [
        "\n"
      ],
      "metadata": {
        "id": "ePysi2SNBxHo"
      },
      "execution_count": null,
      "outputs": []
    }
  ]
}